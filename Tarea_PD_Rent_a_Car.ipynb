{
 "cells": [
  {
   "cell_type": "markdown",
   "id": "4364a55a",
   "metadata": {},
   "source": [
    "# RLnn01 — Planificación por Programación Dinámica\n",
    "**Tema:** Iteración de Política en el problema “Rent-a-Car de Jack”  \n",
    "**Curso:** Inteligencia artificial GR 40\n",
    "**Estudiante:** Joseph Santamaria Castro\n",
    "**Fecha:** Miercoles 1 de Octubre 2025\n",
    "\n",
    "## Objetivos\n",
    "- Formular el problema como un MDP \\(\\langle S,A,P,R,\\gamma \\rangle\\).\n",
    "- Implementar **Iteración de Política** (evaluación + mejora) para hallar \\(\\pi^*\\) y \\(V^*\\).\n",
    "- Modelar la demanda y las devoluciones con distribuciones **Poisson**.\n",
    "- Visualizar \\(V^*(n,m)\\) y \\(\\pi^*(n,m)\\) como *heatmaps*.\n"
   ]
  },
  {
   "cell_type": "markdown",
   "id": "84a1b175",
   "metadata": {},
   "source": [
    "## 1) Formulación del MDP\n",
    "\n",
    "**Idea general**  \n",
    "Cada día del rent-a-car es un paso del MDP. Al cerrar el día se pueden mover autos entre sedes (con costo). Luego, al día siguiente, ocurren nuevas rentas y devoluciones aleatorias.\n",
    "\n",
    "\n",
    "### Estados\n",
    "Un estado es `s = (n, m)`  \n",
    "- `n` = autos en sede 1 al final del día  \n",
    "- `m` = autos en sede 2 al final del día  \n",
    "- Rango: `n, m ∈ {0, …, 20}`\n",
    "\n",
    "\n",
    "### Acciones\n",
    "`a ∈ {-5, …, 5}` = autos movidos **de sede 1 → sede 2**.  \n",
    "Si `a < 0`, se mueven `|a|` **de sede 2 → sede 1**.  \n",
    "\n",
    "Restricción según el estado:  \n",
    "`a ∈ [ -min(5, m, 20-n),  min(5, n, 20-m) ]`  \n",
    "\n",
    "\n",
    "### Dinámica (cierre → día siguiente)\n",
    "Después de mover `a`:\n",
    "- Inventario inicial:  \n",
    "  - `n' = clip(n - a, 0, 20)`  \n",
    "  - `m' = clip(m + a, 0, 20)`  \n",
    "- Costo: `2 * |a|`  \n",
    "\n",
    "Durante el día siguiente:  \n",
    "- Demanda (rentas): `D1 ~ Poisson(3)`, `D2 ~ Poisson(4)`  \n",
    "- Devoluciones: `U1 ~ Poisson(3)`, `U2 ~ Poisson(2)`  \n",
    "\n",
    "\n",
    "### Recompensa inmediata\n",
    "Ingresos por rentas (10 dólares por auto) menos costo de movimiento:  \n",
    "\n",
    "`R(s,a) = 10 * E[min(n', D1)] + 10 * E[min(m', D2)] - 2 * |a|`\n",
    "\n",
    "\n",
    "### Transiciones\n",
    "Probabilidad de pasar al nuevo estado `(i, j)` dada la independencia entre sedes:  \n",
    "\n",
    "`P( (i, j) | (n', m') ) = P1[n', i] * P2[m', j]`  \n",
    "\n",
    "donde `P1` y `P2` son matrices `21x21` de transición por sede.  \n",
    "\n",
    "\n",
    "### Descuento\n",
    "`γ = 0.9`\n",
    "\n",
    "\n",
    "### Objetivo\n",
    "Encontrar:  \n",
    "- **Política óptima** `π*`  \n",
    "- **Valores óptimos** `V*`  \n",
    "\n",
    "Método: **Iteración de Política** (evaluación + mejora) hasta convergencia.\n"
   ]
  },
  {
   "cell_type": "code",
   "execution_count": 1,
   "id": "28ebfb85",
   "metadata": {},
   "outputs": [],
   "source": [
    "import numpy as np\n",
    "import math\n",
    "from functools import lru_cache\n",
    "import matplotlib.pyplot as plt\n",
    "import seaborn as sns\n",
    "\n",
    "# Parámetros del problema\n",
    "MAX_CARS = 20\n",
    "MAX_MOVE = 5\n",
    "RENT_REWARD = 10\n",
    "MOVE_COST = 2\n",
    "gamma = 0.9\n",
    "\n",
    "lambda_1, lambda_2 = 3, 4   # demandas promedio\n",
    "mu_1, mu_2         = 3, 2   # devoluciones promedio\n",
    "S = range(MAX_CARS + 1)\n",
    "\n",
    "# Estilo para plots\n",
    "sns.set(context=\"notebook\", font_scale=1.0)\n"
   ]
  },
  {
   "cell_type": "markdown",
   "id": "587bf31f",
   "metadata": {},
   "source": [
    "## 2) Utilidades Poisson (PMF + colas)\n",
    "\n",
    "Se precomputan tablas de Poisson con una cota práctica (0..20) y una **cola** (tail) para probabilidades que exceden el rango.\n"
   ]
  },
  {
   "cell_type": "code",
   "execution_count": 2,
   "id": "62d5dbd2",
   "metadata": {},
   "outputs": [],
   "source": [
    "@lru_cache(None)\n",
    "def poisson_pmf(k, lmbda):\n",
    "    return math.exp(-lmbda) * (lmbda**k) / math.factorial(k)\n",
    "\n",
    "def poisson_table(lmbda, cutoff=MAX_CARS):\n",
    "    pmf = [poisson_pmf(k, lmbda) for k in range(cutoff + 1)]\n",
    "    s = sum(pmf)\n",
    "    tail = max(0.0, 1.0 - s)\n",
    "    return pmf, tail\n"
   ]
  },
  {
   "cell_type": "markdown",
   "id": "8593f8df",
   "metadata": {},
   "source": [
    "## 3) Recompensas esperadas por sede\n",
    "\n",
    "Definimos `R_i[n]` = ingreso esperado en la sede *i* cuando al inicio del día hay `n` autos (con `n ∈ {0,…,20}`).\n",
    "\n",
    "La fórmula es:\n",
    "\n",
    "R_i[n] = 10 * E[min(n, D_i)]\n",
    "= Σ_{k=0}^{n-1} (10 * k * P(D_i = k)) + (10 * n * P(D_i ≥ n))\n",
    "\n",
    "**Chequeo rápido**  \n",
    "- `R_1[20] ≈ 30`  \n",
    "- `R_2[20] ≈ 40`\n"
   ]
  },
  {
   "cell_type": "code",
   "execution_count": 3,
   "id": "ac837410",
   "metadata": {},
   "outputs": [
    {
     "name": "stdout",
     "output_type": "stream",
     "text": [
      "R1[20] ≈ 29.999999999863725  (esperado ~30)\n",
      "R2[20] ≈ 39.99999997659085  (esperado ~40)\n"
     ]
    }
   ],
   "source": [
    "def expected_rent_value(n, lmbda):\n",
    "    pmf, tail = poisson_table(lmbda, cutoff=MAX_CARS)\n",
    "    part = sum(RENT_REWARD * k * pmf[k] for k in range(min(n, MAX_CARS)+0))\n",
    "    p_ge_n = tail + sum(pmf[n:]) if n <= MAX_CARS else 0.0\n",
    "    return part + RENT_REWARD * n * p_ge_n\n",
    "\n",
    "R1 = np.array([expected_rent_value(n, lambda_1) for n in S])\n",
    "R2 = np.array([expected_rent_value(n, lambda_2) for n in S])\n",
    "\n",
    "print(\"R1[20] ≈\", R1[20], \" (esperado ~30)\")\n",
    "print(\"R2[20] ≈\", R2[20], \" (esperado ~40)\")\n"
   ]
  },
  {
   "cell_type": "markdown",
   "id": "73a53852",
   "metadata": {},
   "source": [
    "## 4) Matrices de transición por sede \\(P^1, P^2\\)\n",
    "\n",
    "Cada fila `start` representa el inventario al inicio del día en la sede; cada columna `end` es el inventario al **final** del día.  \n",
    "Se suman contribuciones por demanda y devoluciones; si se rebasa 20, se acumula en la columna 20 (tope).\n"
   ]
  },
  {
   "cell_type": "code",
   "execution_count": 4,
   "id": "05d99764",
   "metadata": {},
   "outputs": [
    {
     "name": "stdout",
     "output_type": "stream",
     "text": [
      "Máx |fila - 1| P1: 4.440892098500626e-16\n",
      "Máx |fila - 1| P2: 2.220446049250313e-16\n"
     ]
    }
   ],
   "source": [
    "def build_transition(lmbda, mu):\n",
    "    dem_pmf, dem_tail = poisson_table(lmbda, cutoff=MAX_CARS)\n",
    "    ret_pmf, ret_tail = poisson_table(mu,     cutoff=MAX_CARS)\n",
    "\n",
    "    P = np.zeros((MAX_CARS+1, MAX_CARS+1))\n",
    "    for start in S:\n",
    "        # --- Caso 1: demanda exacta d <= start (no se agota inventario) ---\n",
    "        for d in range(min(start, MAX_CARS) + 1):\n",
    "            p_d = dem_pmf[d]\n",
    "            base = start - d                   # stock tras demanda (antes de devoluciones)\n",
    "            max_r = MAX_CARS - base            # r que aún no desborda capacidad\n",
    "\n",
    "            # r que NO desbordan: van a la columna base + r\n",
    "            for r in range(max_r + 1):\n",
    "                P[start, base + r] += p_d * ret_pmf[r]\n",
    "\n",
    "            # r que SÍ desbordan dentro de 0..MAX_CARS: van a la columna MAX_CARS\n",
    "            if max_r + 1 <= MAX_CARS:\n",
    "                overflow_prob = sum(ret_pmf[max_r + 1:])   # r tales que base+r > MAX_CARS\n",
    "                P[start, MAX_CARS] += p_d * overflow_prob\n",
    "\n",
    "            # cola de devoluciones (r > MAX_CARS) también llena la columna MAX_CARS\n",
    "            P[start, MAX_CARS] += p_d * ret_tail\n",
    "\n",
    "        # --- Caso 2: demanda cola (d >= start) => se agota, solo devs determinan el final ---\n",
    "        p_d_ge = dem_tail + sum(dem_pmf[start:]) if start <= MAX_CARS else 0.0\n",
    "        for r in range(MAX_CARS + 1):\n",
    "            P[start, min(r, MAX_CARS)] += p_d_ge * ret_pmf[r]\n",
    "        P[start, MAX_CARS] += p_d_ge * ret_tail\n",
    "\n",
    "        # Normalización por seguridad numérica\n",
    "        row_sum = P[start].sum()\n",
    "        if row_sum > 0:\n",
    "            P[start] /= row_sum\n",
    "\n",
    "    return P\n",
    "\n",
    "# Recalcular y verificar\n",
    "P1 = build_transition(lambda_1, mu_1)\n",
    "P2 = build_transition(lambda_2, mu_2)\n",
    "\n",
    "print(\"Máx |fila - 1| P1:\", np.abs(P1.sum(axis=1) - 1).max())\n",
    "print(\"Máx |fila - 1| P2:\", np.abs(P2.sum(axis=1) - 1).max())\n"
   ]
  },
  {
   "cell_type": "markdown",
   "id": "afb0af62",
   "metadata": {},
   "source": [
    "## 5) Estructuras V y π, y acciones factibles\n",
    "\n",
    "- `V ∈ ℝ^(21×21)` inicializado en 0  \n",
    "- `π ∈ {-5,…,5}^(21×21)` inicializado en 0  \n",
    "\n",
    "---\n",
    "\n",
    "**Acciones factibles por estado `(n, m)`**  \n",
    "\n",
    "a ∈ [ -min(5, m, 20-n) , min(5, n, 20-m) ]"
   ]
  },
  {
   "cell_type": "code",
   "execution_count": 5,
   "id": "a8b6bb61",
   "metadata": {},
   "outputs": [],
   "source": [
    "V = np.zeros((MAX_CARS+1, MAX_CARS+1), dtype=float)\n",
    "pi = np.zeros_like(V, dtype=int)\n",
    "\n",
    "def feasible_actions(n, m):\n",
    "    lo = -min(MAX_MOVE, m, MAX_CARS - n)\n",
    "    hi =  min(MAX_MOVE, n, MAX_CARS - m)\n",
    "    return range(lo, hi + 1)\n"
   ]
  },
  {
   "cell_type": "markdown",
   "id": "38b016dd",
   "metadata": {},
   "source": [
    "## 6) Evaluación de Política\n",
    "\n",
    "Para cada estado `(n, m)`:\n",
    "\n",
    "- Acción según la política: `a = π(n, m)`  \n",
    "- Inventario inicial del día siguiente:  \n",
    "  - `n' = n - a`  \n",
    "  - `m' = m + a`\n",
    "\n",
    "---\n",
    "\n",
    "**Actualización del valor:**\n",
    "\n",
    "V(n, m) ← R1[n'] + R2[m'] - 2*|a|\n",
    "+ γ * Σ_{i=0..20} Σ_{j=0..20} P1[n', i] * P2[m', j] * V(i, j)\n",
    "\n",
    "---\n",
    "\n",
    "**Implementación práctica (truco vectorizado):**\n",
    "\n",
    "V(n, m) = R1[n'] + R2[m'] - 2*|a| + γ * ( P1[n'] @ V @ P2[m'] )"
   ]
  },
  {
   "cell_type": "code",
   "execution_count": 6,
   "id": "b8538913",
   "metadata": {},
   "outputs": [],
   "source": [
    "def policy_evaluation(V, pi, R1, R2, P1, P2, gamma=0.9, theta=1e-3, max_sweeps=10_000):\n",
    "    sweeps = 0\n",
    "    while True:\n",
    "        delta = 0.0\n",
    "        for n in S:\n",
    "            for m in S:\n",
    "                a = pi[n, m]\n",
    "                n2 = max(0, min(MAX_CARS, n - a))\n",
    "                m2 = max(0, min(MAX_CARS, m + a))\n",
    "                r = R1[n2] + R2[m2] - MOVE_COST * abs(a)\n",
    "                EV = P1[n2].dot(V).dot(P2[m2])  # escalar\n",
    "                new_v = r + gamma * EV\n",
    "                delta = max(delta, abs(new_v - V[n, m]))\n",
    "                V[n, m] = new_v\n",
    "        sweeps += 1\n",
    "        if delta < theta or sweeps >= max_sweeps:\n",
    "            # print(f\"[Eval] delta={delta:.3e} sweeps={sweeps}\")\n",
    "            break\n"
   ]
  },
  {
   "cell_type": "markdown",
   "id": "00f07ec3",
   "metadata": {},
   "source": [
    "## 7) Mejora de Política\n",
    "\n",
    "Para cada estado `(n, m)`, se busca la acción `a` que **maximiza** la función `Q(n, m, a)`:\n",
    "\n",
    "Q(n, m, a) = R1[n - a] + R2[m + a] - 2*|a|\n",
    "+ γ * ( P1[n - a] @ V @ P2[m + a] )\n",
    "\n",
    "---\n",
    "\n",
    "**Notas importantes:**\n",
    "- Los valores de `n - a` y `m + a` se saturan al rango `[0, 20]`  \n",
    "  (es decir, se aplica `clip(x, 0, 20)`).\n",
    "- El resultado es la acción óptima `π(n, m)` que actualiza la política."
   ]
  },
  {
   "cell_type": "code",
   "execution_count": 7,
   "id": "c26e18f0",
   "metadata": {},
   "outputs": [],
   "source": [
    "def policy_improvement(V, pi, R1, R2, P1, P2, gamma=0.9):\n",
    "    policy_stable = True\n",
    "    for n in S:\n",
    "        for m in S:\n",
    "            old = pi[n, m]\n",
    "            best_a, best_q = None, -np.inf\n",
    "            for a in feasible_actions(n, m):\n",
    "                n2 = max(0, min(MAX_CARS, n - a))\n",
    "                m2 = max(0, min(MAX_CARS, m + a))\n",
    "                r  = R1[n2] + R2[m2] - MOVE_COST * abs(a)\n",
    "                EV = P1[n2].dot(V).dot(P2[m2])\n",
    "                q  = r + gamma * EV\n",
    "                if q > best_q:\n",
    "                    best_q, best_a = q, a\n",
    "            pi[n, m] = best_a\n",
    "            if best_a != old:\n",
    "                policy_stable = False\n",
    "    return policy_stable\n"
   ]
  },
  {
   "cell_type": "markdown",
   "id": "a418bf0b",
   "metadata": {},
   "source": [
    "## 8) Algoritmo: Iteración de Política\n",
    "\n",
    "Alterna **evaluación** y **mejora** hasta que la política no cambie.\n"
   ]
  },
  {
   "cell_type": "code",
   "execution_count": 8,
   "id": "94861c28",
   "metadata": {},
   "outputs": [],
   "source": [
    "def policy_iteration(V, pi, R1, R2, P1, P2, gamma=0.9, theta=1e-3, max_iter=50):\n",
    "    for it in range(1, max_iter + 1):\n",
    "        policy_evaluation(V, pi, R1, R2, P1, P2, gamma=gamma, theta=theta)\n",
    "        stable = policy_improvement(V, pi, R1, R2, P1, P2, gamma=gamma)\n",
    "        # print(f\"[Iteración {it}] estable={stable}\")\n",
    "        if stable:\n",
    "            # print(f\"Convergió en {it} iteraciones.\")\n",
    "            break\n",
    "\n",
    "policy_iteration(V, pi, R1, R2, P1, P2, gamma=gamma, theta=1e-3)\n"
   ]
  },
  {
   "cell_type": "markdown",
   "id": "af61183d",
   "metadata": {},
   "source": [
    "## 9) Visualizaciones (Heatmaps)\n",
    "\n",
    "Se generan mapas de calor para mostrar:\n",
    "\n",
    "- **Valores** `V(n, m)` (qué tan bueno es cada estado).  \n",
    "- **Política** `π(n, m)` (qué acción se toma en cada estado).\n",
    "\n",
    "---\n",
    "\n",
    "**Convención de ejes:**\n",
    "- **Eje Y = n** → autos en sede 1  \n",
    "- **Eje X = m** → autos en sede 2\n"
   ]
  },
  {
   "cell_type": "code",
   "execution_count": 9,
   "id": "47416bfa",
   "metadata": {},
   "outputs": [
    {
     "data": {
      "image/png": "[encoded data removed]",
      "text/plain": [
       "<Figure size 620x540 with 2 Axes>"
      ]
     },
     "metadata": {},
     "output_type": "display_data"
    },
    {
     "data": {
      "image/png": "[encoded data removed]",
      "text/plain": [
       "<Figure size 620x540 with 2 Axes>"
      ]
     },
     "metadata": {},
     "output_type": "display_data"
    }
   ],
   "source": [
    "plt.figure(figsize=(6.2, 5.4))\n",
    "sns.heatmap(V, annot=False)\n",
    "plt.title(\"Heatmap de V(n,m)\")\n",
    "plt.xlabel(\"m (sede 2)\")\n",
    "plt.ylabel(\"n (sede 1)\")\n",
    "plt.tight_layout()\n",
    "plt.show()\n",
    "\n",
    "plt.figure(figsize=(6.2, 5.4))\n",
    "sns.heatmap(pi, annot=False, center=0, cmap=\"coolwarm\")\n",
    "plt.title(\"Política óptima π(n,m)  (autos 1→2; negativo = 2→1)\")\n",
    "plt.xlabel(\"m (sede 2)\")\n",
    "plt.ylabel(\"n (sede 1)\")\n",
    "plt.tight_layout()\n",
    "plt.show()\n"
   ]
  },
  {
   "cell_type": "markdown",
   "id": "c9fb2259",
   "metadata": {},
   "source": [
    "## 10) Validaciones rápidas\n",
    "\n",
    "- **Probabilidades:** cada fila de `P¹` y `P²` ≈ 1.  \n",
    "- **Recompensas máximas:** `R₁[20] ≈ 30`, `R₂[20] ≈ 40`.  \n",
    "- **Política:** `π(n,m)` siempre dentro de `[-5,5]` y respeta factibilidad por estado.\n",
    "\n",
    "---\n",
    "\n",
    "### ⚠️ Pitfalls comunes (ya cubiertos):\n",
    "\n",
    "1. **Acciones inválidas:** mover más autos de los disponibles o superar 20.  \n",
    "2. **Costo de movimiento omitido:** falta de `-2|a|`.  \n",
    "3. **Cola de Poisson:** no acumular la probabilidad en la columna 20.  \n",
    "4. **Normalización:** filas de `P¹`, `P²` que no sumen 1.\n"
   ]
  },
  {
   "cell_type": "code",
   "execution_count": 10,
   "id": "27c56d08",
   "metadata": {},
   "outputs": [
    {
     "name": "stdout",
     "output_type": "stream",
     "text": [
      "Máx |fila - 1| P1: 4.440892098500626e-16\n",
      "Máx |fila - 1| P2: 2.220446049250313e-16\n",
      "R1[20] ≈ 29.999999999863725   R2[20] ≈ 39.99999997659085\n",
      "π rango: -4 → 5\n"
     ]
    }
   ],
   "source": [
    "print(\"Máx |fila - 1| P1:\", np.abs(P1.sum(axis=1) - 1).max())\n",
    "print(\"Máx |fila - 1| P2:\", np.abs(P2.sum(axis=1) - 1).max())\n",
    "print(\"R1[20] ≈\", R1[20], \"  R2[20] ≈\", R2[20])\n",
    "print(\"π rango:\", pi.min(), \"→\", pi.max())\n"
   ]
  },
  {
   "cell_type": "markdown",
   "id": "6e84055e",
   "metadata": {},
   "source": [
    "## 11) Conclusión\n",
    "\n",
    "- Con `λ₂ = 4` (demanda más alta en sede 2) y `μ₁ = 3` (más devoluciones en sede 1),  \n",
    "  la **política óptima** tiende a mover autos **de sede 1 → sede 2** cuando allí faltan.  \n",
    "\n",
    "- El movimiento está limitado por:  \n",
    "  - **Tope:** máximo 5 autos por noche.  \n",
    "  - **Costo:** `-2 * |a|` por traslado.  \n",
    "\n",
    "- Los valores `V(n, m)` resultan **más altos** cuando el inventario en cada sede  \n",
    "  se alinea mejor con la **demanda esperada**.\n",
    "\n",
    "  Además, se verificó que las matrices de transición están bien normalizadas y que la política obtenida es consistente con los valores, confirmando la corrección de la solución.\n"
   ]
  }
 ],
 "metadata": {
  "kernelspec": {
   "display_name": "myenv",
   "language": "python",
   "name": "python3"
  },
  "language_info": {
   "codemirror_mode": {
    "name": "ipython",
    "version": 3
   },
   "file_extension": ".py",
   "mimetype": "text/x-python",
   "name": "python",
   "nbconvert_exporter": "python",
   "pygments_lexer": "ipython3",
   "version": "3.11.7"
  }
 },
 "nbformat": 4,
 "nbformat_minor": 5
}
